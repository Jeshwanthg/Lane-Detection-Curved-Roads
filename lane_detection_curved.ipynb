# 🛣️ Lane Detection - Curved Roads 

import cv2
import numpy as np
import matplotlib.pyplot as plt

# Utility function to show images inline (for Jupyter Notebooks)
def show_image(title, image):
    plt.figure(figsize=(10, 5))
    if len(image.shape) == 2:
        plt.imshow(image, cmap='gray')
    else:
        image = cv2.cvtColor(image, cv2.COLOR_BGR2RGB)
        plt.imshow(image)
    plt.title(title)
    plt.axis('off')
    plt.show()

# Step 1: Load and resize the image
frame = cv2.imread("test_curved_road.jpg")  # Make sure the image is in the same folder
frame = cv2.resize(frame, (640, 480))
show_image("Original Image", frame)

# Step 2: Filter for Yellow and White Lane Colors
def color_filter(image):
    hsv = cv2.cvtColor(image, cv2.COLOR_BGR2HSV)

    # Define yellow color range
    lower_yellow = np.array([15, 100, 100])
    upper_yellow = np.array([35, 255, 255])
    mask_yellow = cv2.inRange(hsv, lower_yellow, upper_yellow)

    # Define white color range
    lower_white = np.array([0, 0, 200])
    upper_white = np.array([255, 30, 255])
    mask_white = cv2.inRange(hsv, lower_white, upper_white)

    # Combine both masks
    combined_mask = cv2.bitwise_or(mask_white, mask_yellow)
    return cv2.bitwise_and(image, image, mask=combined_mask)

filtered = color_filter(frame)
show_image("Color Filtered (Yellow + White)", filtered)

# Step 3: Convert to Grayscale, Blur, and Detect Edges
gray = cv2.cvtColor(filtered, cv2.COLOR_BGR2GRAY)
blur = cv2.GaussianBlur(gray, (5, 5), 0)
edges = cv2.Canny(blur, 50, 150)
show_image("Edges after Canny", edges)

# Step 4: Region of Interest (ROI) Masking
def region_of_interest(image):
    height, width = image.shape
    mask = np.zeros_like(image)

    # Define a polygon region
    polygon = np.array([[
        (int(0.1 * width), height),
        (int(0.9 * width), height),
        (int(0.6 * width), int(0.6 * height)),
        (int(0.4 * width), int(0.6 * height))
    ]], np.int32)

    cv2.fillPoly(mask, polygon, 255)
    return cv2.bitwise_and(image, mask)

roi = region_of_interest(edges)
show_image("Region of Interest", roi)

# Step 5: Detect Lines using Hough Transform
def detect_lines(image, original):
    lines = cv2.HoughLinesP(image, 1, np.pi/180, threshold=50,
                            minLineLength=50, maxLineGap=100)
    
    line_img = np.zeros_like(original)

    if lines is not None:
        for line in lines:
            x1, y1, x2, y2 = line[0]
            cv2.line(line_img, (x1, y1), (x2, y2), (0, 255, 0), 5)

    combined = cv2.addWeighted(original, 0.8, line_img, 1, 1)
    return combined

final = detect_lines(roi, frame)
show_image("Final Detected Curved Lanes", final)

# Final output 
cv2.imwrite("lane_output.jpg", final)
